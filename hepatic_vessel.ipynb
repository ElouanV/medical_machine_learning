{
 "cells": [
  {
   "cell_type": "code",
   "execution_count": 1,
   "metadata": {},
   "outputs": [],
   "source": [
    "# Import monai and ITK\n",
    "import monai\n",
    "import itk\n",
    "import numpy as np\n"
   ]
  },
  {
   "cell_type": "code",
   "execution_count": 2,
   "metadata": {},
   "outputs": [
    {
     "name": "stdout",
     "output_type": "stream",
     "text": [
      "2023-12-21 00:08:40,874 - INFO - Verified 'Task08_HepaticVessel.tar', md5: 641d79e80ec66453921d997fbf12a29c.\n",
      "2023-12-21 00:08:40,875 - INFO - File exists: data/Task08_HepaticVessel.tar, skipped downloading.\n",
      "2023-12-21 00:08:40,876 - INFO - Non-empty folder exists in data/Task08_HepaticVessel, skipped extracting.\n"
     ]
    },
    {
     "name": "stderr",
     "output_type": "stream",
     "text": [
      "monai.transforms.io.dictionary LoadImaged.__init__:image_only: Current default value of argument `image_only=False` has been deprecated since version 1.1. It will be changed to `image_only=True` in version 1.3.\n",
      "Loading dataset:  31%|███       | 75/243 [01:08<05:49,  2.08s/it]"
     ]
    },
    {
     "ename": "",
     "evalue": "",
     "output_type": "error",
     "traceback": [
      "\u001b[1;31mThe Kernel crashed while executing code in the the current cell or a previous cell. Please review the code in the cell(s) to identify a possible cause of the failure. Click <a href='https://aka.ms/vscodeJupyterKernelCrash'>here</a> for more info. View Jupyter <a href='command:jupyter.viewOutput'>log</a> for further details."
     ]
    }
   ],
   "source": [
    "from monai.apps import DecathlonDataset\n",
    "\n",
    "# Set the directory where you want to download the dataset\n",
    "root_dir = \"./data\"\n",
    "\n",
    "# Download the dataset\n",
    "DecathlonDataset(root_dir=root_dir, task=\"Task08_HepaticVessel\", section=\"training\", download=True)\n"
   ]
  },
  {
   "cell_type": "code",
   "execution_count": null,
   "metadata": {},
   "outputs": [],
   "source": [
    "import itk\n",
    "import os\n",
    "\n",
    "# Directory paths for images and masks\n",
    "data_dir = \"./data/Task08_HepaticVessel/\"\n",
    "images_dir = os.path.join(data_dir, \"imagesTr\")\n",
    "masks_dir = os.path.join(data_dir, \"masksTr\")\n",
    "\n",
    "# Function to compute statistics for a list of images\n",
    "def compute_statistics(image_files):\n",
    "    all_means = []\n",
    "    all_stds = []\n",
    "    all_mins = []\n",
    "    all_maxs = []\n",
    "\n",
    "    for img_file in image_files:\n",
    "        image = itk.imread(img_file)\n",
    "        img_arr = itk.array_from_image(image)\n",
    "\n",
    "        # Compute statistics for each image\n",
    "        img_mean = img_arr.mean()\n",
    "        img_std = img_arr.std()\n",
    "        img_min = img_arr.min()\n",
    "        img_max = img_arr.max()\n",
    "\n",
    "        all_means.append(img_mean)\n",
    "        all_stds.append(img_std)\n",
    "        all_mins.append(img_min)\n",
    "        all_maxs.append(img_max)\n",
    "\n",
    "    return all_means, all_stds, all_mins, all_maxs\n",
    "\n",
    "# Get file paths for images and masks\n",
    "image_files = [os.path.join(images_dir, file) for file in os.listdir(images_dir)]\n",
    "mask_files = [os.path.join(masks_dir, file) for file in os.listdir(masks_dir)]\n",
    "\n",
    "# Compute statistics for images\n",
    "image_means, image_stds, image_mins, image_maxs = compute_statistics(image_files)\n",
    "mask_means, mask_stds, mask_mins, mask_maxs = compute_statistics(mask_files)\n",
    "\n",
    "# Print statistics\n",
    "print(\"Image Statistics:\")\n",
    "print(f\"Mean: {sum(image_means) / len(image_means):.2f}\")\n",
    "print(f\"Standard Deviation: {sum(image_stds) / len(image_stds):.2f}\")\n",
    "print(f\"Min Value: {min(image_mins)}\")\n",
    "print(f\"Max Value: {max(image_maxs)}\")\n",
    "\n",
    "print(\"\\nMask Statistics:\")\n",
    "print(f\"Mean: {sum(mask_means) / len(mask_means):.2f}\")\n",
    "print(f\"Standard Deviation: {sum(mask_stds) / len(mask_stds):.2f}\")\n",
    "print(f\"Min Value: {min(mask_mins)}\")\n",
    "print(f\"Max Value: {max(mask_maxs)}\")\n"
   ]
  },
  {
   "cell_type": "markdown",
   "metadata": {},
   "source": [
    "Fast marching level-set segmentation\n"
   ]
  },
  {
   "cell_type": "markdown",
   "metadata": {},
   "source": []
  },
  {
   "cell_type": "code",
   "execution_count": null,
   "metadata": {},
   "outputs": [],
   "source": [
    "import itk\n",
    "import matplotlib.pyplot as plt\n",
    "\n",
    "def fast_marching_segmentation(input_filepath,\n",
    "                               seed_x=56, seed_y=92,\n",
    "                               basin_minimum=1.55,\n",
    "                               border_minimum=2.45,\n",
    "                               stopping_value=100,\n",
    "                               time_threshold=100,\n",
    "                               output_filepath='output_segmentation.png'):\n",
    "\n",
    "    input_image = itk.imread(input_filepath, pixel_type=itk.F)\n",
    "\n",
    "    smoothing_filter = itk.CurvatureAnisotropicDiffusionImageFilter.New(input_image)\n",
    "    smoothing_filter.SetTimeStep(0.125)\n",
    "    smoothing_filter.SetNumberOfIterations(5)\n",
    "    smoothing_filter.SetConductanceParameter(3.0)\n",
    "\n",
    "    gradient_filter = itk.GradientMagnitudeRecursiveGaussianImageFilter.New(smoothing_filter)\n",
    "    gradient_filter.SetSigma(1.0)\n",
    "\n",
    "    sigmoid_filter = itk.SigmoidImageFilter.New(gradient_filter)\n",
    "    sigmoid_filter.SetOutputMinimum(0.0)\n",
    "    sigmoid_filter.SetOutputMaximum(1.0)\n",
    "    alpha = -(float(border_minimum) - float(basin_minimum)) / 3.0\n",
    "    beta = (float(border_minimum) + float(basin_minimum)) / 2.0\n",
    "    sigmoid_filter.SetAlpha(alpha)\n",
    "    sigmoid_filter.SetBeta(beta)\n",
    "    fastmarching = itk.FastMarchingImageFilter.New(sigmoid_filter)\n",
    "\n",
    "    dimension = input_image.GetImageDimension()\n",
    "    IndexType = itk.Index[dimension]\n",
    "    seed_position = IndexType()\n",
    "    seed_position[0] = int(seed_x)\n",
    "    seed_position[1] = int(seed_y)\n",
    "\n",
    "    NodeType = itk.LevelSetNode[itk.F, dimension]\n",
    "    node = NodeType()\n",
    "    node.SetValue(0.)\n",
    "    node.SetIndex(seed_position)\n",
    "    NodeContainer = itk.VectorContainer[itk.UI, NodeType]\n",
    "    seeds = NodeContainer.New()\n",
    "    seeds.Initialize()\n",
    "    seeds.InsertElement(0, node)\n",
    "    fastmarching.SetTrialPoints(seeds)\n",
    "\n",
    "    fastmarching.SetOutputSize(input_image.GetBufferedRegion().GetSize())\n",
    "    fastmarching.SetStoppingValue(float(stopping_value))\n",
    "\n",
    "    output_type = itk.Image[itk.UC, dimension]\n",
    "    thresholder = itk.BinaryThresholdImageFilter[input_image, output_type].New(fastmarching)\n",
    "    thresholder.SetLowerThreshold(0.0)\n",
    "    thresholder.SetUpperThreshold(float(time_threshold))\n",
    "    thresholder.SetOutsideValue(0)\n",
    "    thresholder.SetInsideValue(255)\n",
    "\n",
    "    # Update the filter\n",
    "    thresholder.Update()\n",
    "\n",
    "    output_image = thresholder.GetOutput()\n",
    "\n",
    "    # Save the segmented output\n",
    "    itk.imwrite(output_image, output_filepath)\n",
    "\n",
    "    # Plot the segmented output\n",
    "    plt.imshow(itk.GetArrayViewFromImage(output_image), cmap='gray')\n",
    "    plt.axis('off')\n",
    "    plt.title('Segmentation Result')\n",
    "    plt.show()\n"
   ]
  }
 ],
 "metadata": {
  "kernelspec": {
   "display_name": "venv",
   "language": "python",
   "name": "python3"
  },
  "language_info": {
   "codemirror_mode": {
    "name": "ipython",
    "version": 3
   },
   "file_extension": ".py",
   "mimetype": "text/x-python",
   "name": "python",
   "nbconvert_exporter": "python",
   "pygments_lexer": "ipython3",
   "version": "3.10.12"
  }
 },
 "nbformat": 4,
 "nbformat_minor": 2
}
